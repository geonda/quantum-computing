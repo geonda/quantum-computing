{
 "cells": [
  {
   "cell_type": "code",
   "execution_count": 29,
   "metadata": {},
   "outputs": [],
   "source": [
    "import numpy as np\n",
    "from matplotlib import pyplot as plt\n",
    "from matplotlib import style\n",
    "%matplotlib inline\n",
    "from math import pi\n",
    "\n",
    "import qiskit as q\n",
    "from qiskit import IBMQ\n",
    "from qiskit.tools.monitor import job_monitor\n",
    "from qiskit.visualization import plot_histogram\n",
    "from qiskit.tools.visualization import plot_bloch_multivector\n",
    "\n",
    "style.use(\"dark_background\")\n",
    "\n",
    "def do_job(circuit,type='sim',nshots=1000): \n",
    "    \n",
    "    if type=='sim':\n",
    "        backend = q.Aer.get_backend('qasm_simulator')\n",
    "    elif type=='ibmq':\n",
    "        backend = provider.get_backend(\"ibmq_london\")\n",
    "        \n",
    "    circuit.measure([0,1],[0,1])\n",
    "    job = q.execute(circuit, backend=backend, shots=nshots)\n",
    "    \n",
    "    if type=='ibmq':\n",
    "        job_monitor(job)\n",
    "        \n",
    "    result = job.result()\n",
    "    counts = result.get_counts()\n",
    "    \n",
    "    return counts\n"
   ]
  },
  {
   "cell_type": "code",
   "execution_count": 30,
   "metadata": {},
   "outputs": [],
   "source": [
    "def check(counts,name):\n",
    "    try:\n",
    "        return counts[name]\n",
    "    except:\n",
    "        return 0"
   ]
  },
  {
   "cell_type": "code",
   "execution_count": 19,
   "metadata": {},
   "outputs": [
    {
     "name": "stderr",
     "output_type": "stream",
     "text": [
      "Credentials already present. Set overwrite=True to overwrite.\n"
     ]
    }
   ],
   "source": [
    "# if  type=='ibmq' : \n",
    "IBMQ.save_account('your_TOKEN_')\n",
    "IBMQ.load_account()\n",
    "provider = IBMQ.get_provider(\"ibm-q\")"
   ]
  },
  {
   "cell_type": "code",
   "execution_count": 31,
   "metadata": {},
   "outputs": [
    {
     "data": {
      "image/png": "[encoded data removed]",
      "text/plain": [
       "<Figure size 432x288 with 1 Axes>"
      ]
     },
     "metadata": {},
     "output_type": "display_data"
    },
    {
     "name": "stdout",
     "output_type": "stream",
     "text": [
      "2.856 2.8284271247461903\n"
     ]
    }
   ],
   "source": [
    "theta_arr = np.linspace(0,2*pi,100)\n",
    "\n",
    "run_type = 'sim'\n",
    "nshots = 1000\n",
    "\n",
    "cor_name_list = ['ab','a1b','ab1','a1b1']\n",
    "S = []\n",
    "\n",
    "for theta in theta_arr:\n",
    "    cor = {}\n",
    "    E = {}\n",
    "    \n",
    "    for cor_name in cor_name_list:\n",
    "        circuit = q.QuantumCircuit(2,2)\n",
    "        circuit.h(0)\n",
    "        circuit.cx(0,1)\n",
    "        \n",
    "        if cor_name == 'ab':\n",
    "            circuit.ry(-theta,1)           \n",
    "        elif cor_name =='a1b': \n",
    "            circuit.ry(-2*theta,0)\n",
    "            circuit.ry(-theta,1)\n",
    "        elif cor_name == 'ab1':\n",
    "            circuit.ry(-3*theta,1)\n",
    "        elif cor_name == 'a1b1':\n",
    "            circuit.ry(-2*theta,0)\n",
    "            circuit.ry(-3*theta,1)\n",
    "            \n",
    "        cor[cor_name] = do_job(circuit, type = run_type, nshots=nshots)\n",
    "        \n",
    "        E[cor_name] = check(cor[cor_name],'11')/nshots\\\n",
    "        + check(cor[cor_name],'00')/nshots\\\n",
    "        - check(cor[cor_name],'01')/nshots\\\n",
    "        - check(cor[cor_name],'10')/nshots\n",
    "        \n",
    "    S.append(E['ab'] + E['a1b1'] + E['a1b'] - E['ab1'])\n",
    "    \n",
    "\n",
    "\n",
    "f = lambda x : np.cos(x) - np.cos(3*x) + np.cos(-x) + np.cos(x)\n",
    "plt.plot(theta_arr/pi, f(theta_arr), '--', linewidth = 2,color = 'w' )\n",
    "plt.plot(theta_arr/pi, S, linewidth = 2, color='r', label = 'sim')\n",
    "\n",
    "plt.axhline(2)\n",
    "plt.axhline(-2)\n",
    "plt.legend()\n",
    "plt.show()\n",
    "\n",
    "print(max(S),np.sqrt(2)*2)\n"
   ]
  },
  {
   "cell_type": "code",
   "execution_count": null,
   "metadata": {},
   "outputs": [],
   "source": []
  }
 ],
 "metadata": {
  "kernelspec": {
   "display_name": "Python 3",
   "language": "python",
   "name": "python3"
  },
  "language_info": {
   "codemirror_mode": {
    "name": "ipython",
    "version": 3
   },
   "file_extension": ".py",
   "mimetype": "text/x-python",
   "name": "python",
   "nbconvert_exporter": "python",
   "pygments_lexer": "ipython3",
   "version": "3.7.6"
  }
 },
 "nbformat": 4,
 "nbformat_minor": 4
}
